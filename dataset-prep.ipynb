{
 "cells": [
  {
   "cell_type": "code",
   "execution_count": 14,
   "metadata": {},
   "outputs": [],
   "source": [
    "from pascal import annotation_from_xml\n",
    "import os\n",
    "from sklearn.model_selection import train_test_split\n",
    "import random\n",
    "import shutil"
   ]
  },
  {
   "cell_type": "code",
   "execution_count": 10,
   "metadata": {},
   "outputs": [],
   "source": [
    "def pascal_to_yolo(xml_path, yolo_output_path, label):\n",
    "    # read xml file\n",
    "    ann = annotation_from_xml(xml_path)\n",
    "\n",
    "    # Create the output directory if it doesn't exist\n",
    "    os.makedirs(os.path.dirname(yolo_output_path), exist_ok=True)\n",
    "\n",
    "    label_map = label\n",
    "    # get ann str\n",
    "    yolo_ann = ann.to_yolo(label_map)\n",
    "    # save yolo format file\n",
    "    with open(yolo_output_path, \"w\") as f:\n",
    "        f.write(yolo_ann)"
   ]
  },
  {
   "cell_type": "code",
   "execution_count": 11,
   "metadata": {},
   "outputs": [],
   "source": [
    "labels = {'licence': 0}"
   ]
  },
  {
   "cell_type": "code",
   "execution_count": 12,
   "metadata": {},
   "outputs": [],
   "source": [
    "for file in os.listdir('Dataset/annotations_p'):\n",
    "    filename = file.split(sep='.')[0] + '.txt'\n",
    "    pascal_to_yolo(f'Dataset/annotations_p/{file}', f'Dataset/annotations/{filename}', labels)"
   ]
  },
  {
   "cell_type": "code",
   "execution_count": 15,
   "metadata": {},
   "outputs": [],
   "source": [
    "# Function to create 'images' and 'labels' folders inside a given directory\n",
    "def create_image_label_folders(base_dir):\n",
    "    os.makedirs(os.path.join(base_dir, 'images'), exist_ok=True)\n",
    "    os.makedirs(os.path.join(base_dir, 'labels'), exist_ok=True)"
   ]
  },
  {
   "cell_type": "code",
   "execution_count": 16,
   "metadata": {},
   "outputs": [],
   "source": [
    "# Set the paths for the original dataset and the train/val split\n",
    "original_dataset_path = 'Dataset'\n",
    "train_output_path = 'train'\n",
    "val_output_path = 'val'\n",
    "\n",
    "# Create 'images' and 'labels' folders for train and val sets\n",
    "create_image_label_folders(train_output_path)\n",
    "create_image_label_folders(val_output_path)\n",
    "\n",
    "# Get the list of files in the original dataset\n",
    "file_list = os.listdir(os.path.join(original_dataset_path, 'images'))\n",
    "\n",
    "# Shuffle the file list to randomize the split\n",
    "random.shuffle(file_list)\n",
    "\n",
    "# Define the ratio for train/validation split\n",
    "train_ratio = 0.75\n",
    "num_train = int(len(file_list) * train_ratio)\n",
    "\n",
    "# Split the dataset into train and val sets\n",
    "train_files = file_list[:num_train]\n",
    "val_files = file_list[num_train:]\n",
    "\n",
    "# Copy images and labels to train set\n",
    "for filename in train_files:\n",
    "    image_source_path = os.path.join(original_dataset_path, 'images', filename)\n",
    "    label_source_path = os.path.join(original_dataset_path, 'annotations', f'{os.path.splitext(filename)[0]}.txt')\n",
    "\n",
    "    image_dest_path = os.path.join(train_output_path, 'images', filename)\n",
    "    label_dest_path = os.path.join(train_output_path, 'labels', f'{os.path.splitext(filename)[0]}.txt')\n",
    "\n",
    "    shutil.copy(image_source_path, image_dest_path)\n",
    "    shutil.copy(label_source_path, label_dest_path)\n",
    "\n",
    "# Copy images and labels to val set\n",
    "for filename in val_files:\n",
    "    image_source_path = os.path.join(original_dataset_path, 'images', filename)\n",
    "    label_source_path = os.path.join(original_dataset_path, 'annotations', f'{os.path.splitext(filename)[0]}.txt')\n",
    "\n",
    "    image_dest_path = os.path.join(val_output_path, 'images', filename)\n",
    "    label_dest_path = os.path.join(val_output_path, 'labels', f'{os.path.splitext(filename)[0]}.txt')\n",
    "\n",
    "    shutil.copy(image_source_path, image_dest_path)\n",
    "    shutil.copy(label_source_path, label_dest_path)"
   ]
  },
  {
   "cell_type": "code",
   "execution_count": null,
   "metadata": {},
   "outputs": [],
   "source": []
  }
 ],
 "metadata": {
  "kernelspec": {
   "display_name": "Python 3",
   "language": "python",
   "name": "python3"
  },
  "language_info": {
   "codemirror_mode": {
    "name": "ipython",
    "version": 3
   },
   "file_extension": ".py",
   "mimetype": "text/x-python",
   "name": "python",
   "nbconvert_exporter": "python",
   "pygments_lexer": "ipython3",
   "version": "3.10.11"
  }
 },
 "nbformat": 4,
 "nbformat_minor": 2
}
